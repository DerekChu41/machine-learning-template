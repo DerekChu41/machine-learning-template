{
 "cells": [
  {
   "cell_type": "markdown",
   "metadata": {},
   "source": [
    "# This is a boosting tree version template for classification. <br>\n",
    "You may simply change the loss functions to transfer it to regression model,<br>\n",
    "and before that, you need to change lgb.LGBMClassifier to lgb.LGBMRegressor in lgb,<br>\n",
    "and xgb.XGBRFClassifier to xgb.XGBRFRegressor in xgb."
   ]
  },
  {
   "cell_type": "code",
   "execution_count": 4,
   "metadata": {},
   "outputs": [
    {
     "name": "stderr",
     "output_type": "stream",
     "text": [
      "/Library/Frameworks/Python.framework/Versions/3.7/lib/python3.7/site-packages/sklearn/externals/joblib/__init__.py:15: DeprecationWarning: sklearn.externals.joblib is deprecated in 0.21 and will be removed in 0.23. Please import this functionality directly from joblib, which can be installed with: pip install joblib. If this warning is raised when loading pickled models, you may need to re-serialize those models with scikit-learn 0.21+.\n",
      "  warnings.warn(msg, category=DeprecationWarning)\n"
     ]
    }
   ],
   "source": [
    "import numpy as np\n",
    "import datetime\n",
    "import pandas as pd\n",
    "import lightgbm as lgb\n",
    "import xgboost as xgb\n",
    "from sklearn import preprocessing\n",
    "from sklearn.preprocessing import LabelEncoder\n",
    "from sklearn.preprocessing import OneHotEncoder\n",
    "from sklearn.cluster import KMeans\n",
    "from sklearn.metrics import mean_squared_error\n",
    "from sklearn.metrics import roc_curve, auc\n",
    "from sklearn.metrics import roc_auc_score\n",
    "import skopt\n",
    "# !pip install scikit-optimize if  necessary\n",
    "from skopt import gbrt_minimize, gp_minimize\n",
    "from skopt.utils import use_named_args\n",
    "from skopt.space import Real, Categorical, Integer\n",
    "\n",
    "import warnings\n",
    "warnings.simplefilter(\"ignore\")\n",
    "\n",
    "import matplotlib.pyplot as plt\n",
    "import seaborn as sns\n",
    "\n",
    "pd.set_option('display.max_columns', 1000)\n",
    "pd.set_option('display.max_rows', 1000)"
   ]
  },
  {
   "cell_type": "markdown",
   "metadata": {},
   "source": [
    "# data loading"
   ]
  },
  {
   "cell_type": "code",
   "execution_count": 2,
   "metadata": {},
   "outputs": [],
   "source": [
    "data = np.random.rand(10000,31)\n",
    "df = pd.DataFrame(data,columns = ['f'+str(i) for i in range(1,32)])\n",
    "df['f31'] = df['f31'].apply(round)\n",
    "df.loc[:7000,'f1'] = '2019-01-01'\n",
    "df.loc[7000:,'f1'] = '2020-01-01'"
   ]
  },
  {
   "cell_type": "markdown",
   "metadata": {},
   "source": [
    "# data cleansing"
   ]
  },
  {
   "cell_type": "code",
   "execution_count": 3,
   "metadata": {},
   "outputs": [
    {
     "name": "stdout",
     "output_type": "stream",
     "text": [
      "clean data\n"
     ]
    }
   ],
   "source": [
    "\n",
    "def data_cleansing(df):\n",
    "    \n",
    "    #df = df[conditions]     \n",
    "    \n",
    "    df = df.fillna(0)\n",
    "    \n",
    "    return df\n",
    "\n",
    "print('clean data')\n",
    "df_cleansed = data_cleansing(df)    "
   ]
  },
  {
   "cell_type": "markdown",
   "metadata": {},
   "source": [
    "# data processing"
   ]
  },
  {
   "cell_type": "code",
   "execution_count": 4,
   "metadata": {},
   "outputs": [
    {
     "name": "stdout",
     "output_type": "stream",
     "text": [
      "process data\n"
     ]
    }
   ],
   "source": [
    "dummy_features = []\n",
    "date_features = ['f1']\n",
    "norm_features = []\n",
    "# normally we don't have to normalize data in boosting tree methods\n",
    "\n",
    "\n",
    "def data_processing(df):\n",
    "    \n",
    "    if len(dummy_features) != 0:\n",
    "        for feature in dummy_features:\n",
    "            dummy = pd.get_dummies(df[feature],prefix=feature)\n",
    "            df = pd.concat([df,dummy],axis=1)\n",
    "        df = df.drop(columns = dummy_features)\n",
    "\n",
    "\n",
    "    if len(date_features) != 0:\n",
    "        for feature in date_features:\n",
    "            df[feature+'_dayofweek'] = pd.to_datetime(df[feature]).dt.dayofweek\n",
    "    \n",
    "    #normally, normalization is subtle, not just compute mean and std of the whole dataset,\n",
    "    #it may be different in different dataset. \n",
    "    \n",
    "    #if len(norm_features) != 0:\n",
    "        \n",
    "    return df\n",
    "\n",
    "\n",
    "print('process data')\n",
    "df_processed = data_processing(df_cleansed)\n"
   ]
  },
  {
   "cell_type": "code",
   "execution_count": 5,
   "metadata": {},
   "outputs": [
    {
     "data": {
      "text/plain": [
       "Index(['f1', 'f2', 'f3', 'f4', 'f5', 'f6', 'f7', 'f8', 'f9', 'f10', 'f11',\n",
       "       'f12', 'f13', 'f14', 'f15', 'f16', 'f17', 'f18', 'f19', 'f20', 'f21',\n",
       "       'f22', 'f23', 'f24', 'f25', 'f26', 'f27', 'f28', 'f29', 'f30', 'f31',\n",
       "       'f1_dayofweek'],\n",
       "      dtype='object')"
      ]
     },
     "execution_count": 5,
     "metadata": {},
     "output_type": "execute_result"
    }
   ],
   "source": [
    "df_processed.columns"
   ]
  },
  {
   "cell_type": "markdown",
   "metadata": {},
   "source": [
    "# data split"
   ]
  },
  {
   "cell_type": "code",
   "execution_count": 6,
   "metadata": {},
   "outputs": [],
   "source": [
    "features = ['f2', 'f3', 'f4', 'f5', 'f6', 'f7', 'f8', 'f9', 'f10', 'f11',\n",
    "       'f12', 'f13', 'f14', 'f15', 'f16', 'f17', 'f18', 'f19', 'f20', 'f21',\n",
    "       'f22', 'f23', 'f24', 'f25', 'f26', 'f27', 'f28', 'f29', 'f30','f1_dayofweek']\n",
    "label = 'f31'\n",
    "split_date = '2020-01-01'\n",
    "\n",
    "def data_split(df,features,label,split_date):\n",
    "    \n",
    "    X_train = df[df['f1']<split_date][features].reset_index(drop=True)\n",
    "    y_train = df[df['f1']<split_date][label].reset_index(drop=True)\n",
    "    \n",
    "    X_test = df[df['f1']>=split_date][features].reset_index(drop=True)\n",
    "    y_test = df[df['f1']>=split_date][label].reset_index(drop=True)\n",
    "    \n",
    "    return X_train,y_train,X_test,y_test\n",
    "\n",
    "\n",
    "X_train,y_train,X_test,y_test = data_split(df_processed,features,label,split_date)"
   ]
  },
  {
   "cell_type": "markdown",
   "metadata": {},
   "source": [
    "# train model"
   ]
  },
  {
   "cell_type": "code",
   "execution_count": 7,
   "metadata": {},
   "outputs": [],
   "source": [
    "\n",
    "def train_model(X_train,y_train,max_depth=6,learning_rate=0.1,n_estimators=200,\n",
    "                num_leaves = 40,objective='regression_l1',boosting_type='gbdt'):\n",
    "\n",
    "    gbm = lgb.LGBMClassifier(max_depth=max_depth,\n",
    "                            learning_rate=learning_rate,\n",
    "                            n_estimators=n_estimators,\n",
    "                            objective=objective,\n",
    "                            num_leaves=num_leaves,\n",
    "                            boosting_type = boosting_type,\n",
    "                            silent=False\n",
    "                           )\n",
    "    gbm.fit(X_train, y_train)\n",
    "    return gbm"
   ]
  },
  {
   "cell_type": "code",
   "execution_count": 8,
   "metadata": {},
   "outputs": [],
   "source": [
    "model = train_model(X_train,y_train)\n",
    "y_pred = model.predict_proba(X_test)[:,1]\n",
    "\n",
    "\n"
   ]
  },
  {
   "cell_type": "markdown",
   "metadata": {},
   "source": [
    "# Evaluate model"
   ]
  },
  {
   "cell_type": "code",
   "execution_count": 12,
   "metadata": {},
   "outputs": [],
   "source": [
    "def plot_roc_curve(fpr,tpr,roc_auc):    \n",
    "    plt.figure()\n",
    "    lw = 2\n",
    "    plt.plot(fpr, tpr, color='darkorange',\n",
    "             lw=lw, label='ROC curve (area = %0.2f)' % roc_auc)\n",
    "    plt.plot([0, 1], [0, 1], color='navy', lw=lw, linestyle='--')\n",
    "    plt.xlim([0.0, 1.0])\n",
    "    plt.ylim([0.0, 1.05])\n",
    "    plt.xlabel('False Positive Rate')\n",
    "    plt.ylabel('True Positive Rate')\n",
    "    plt.title('Receiver operating characteristic example')\n",
    "    plt.legend(loc=\"lower right\")\n",
    "    plt.show()\n",
    "\n"
   ]
  },
  {
   "cell_type": "code",
   "execution_count": 13,
   "metadata": {},
   "outputs": [
    {
     "data": {
      "image/png": "[encoded data removed]",
      "text/plain": [
       "<Figure size 432x288 with 1 Axes>"
      ]
     },
     "metadata": {
      "needs_background": "light"
     },
     "output_type": "display_data"
    }
   ],
   "source": [
    "def evaluate_model(y_test,y_pred,PLOT=True):\n",
    "\n",
    "    fpr, tpr, _ = roc_curve(y_test, y_pred)\n",
    "    roc_auc = auc(fpr, tpr)\n",
    "    if PLOT:\n",
    "        plot_roc_curve(fpr,tpr,roc_auc)\n",
    "    return roc_auc\n",
    "\n",
    "AUC = evaluate_model(y_test,y_pred)"
   ]
  },
  {
   "cell_type": "code",
   "execution_count": 186,
   "metadata": {},
   "outputs": [],
   "source": [
    "def PrecisionRecall(y_test,y_pred,threshold):\n",
    "   \n",
    "    y_pred = pd.DataFrame(y_pred,columns=['pred'])\n",
    "    y_pred = y_pred['pred'].apply(lambda x: 1 if x>=threshold else 0)\n",
    "    tp = pd.concat([y_test,y_pred],axis=1)\n",
    "    tp.columns = ['true','pred']\n",
    "    precision = tp[(tp['pred']==1)&(tp['true']==1)].shape[0]/tp[tp['pred']==1].shape[0]\n",
    "    recall = tp[(tp['pred']==1)&(tp['true']==1)].shape[0]/tp[tp['true']==1].shape[0]\n",
    "    return round(precision,4),round(recall,4)\n",
    "    "
   ]
  },
  {
   "cell_type": "code",
   "execution_count": 188,
   "metadata": {},
   "outputs": [
    {
     "data": {
      "text/plain": [
       "(0.4851, 0.3422)"
      ]
     },
     "execution_count": 188,
     "metadata": {},
     "output_type": "execute_result"
    }
   ],
   "source": [
    "Precision,Recall = PrecisionRecall(y_test,y_pred,0.5)\n",
    "Precision,Recall"
   ]
  },
  {
   "cell_type": "markdown",
   "metadata": {},
   "source": [
    "# self define loss function"
   ]
  },
  {
   "cell_type": "code",
   "execution_count": 65,
   "metadata": {},
   "outputs": [],
   "source": [
    "def custom_asymmetric_train(y_true, y_pred):\n",
    "    residual = (y_true - y_pred).astype(\"float\")\n",
    "    grad = np.where(residual<0, -2*10.0*residual, -2*residual)\n",
    "    hess = np.where(residual<0, 2*10.0, 2.0)\n",
    "    return grad, hess\n"
   ]
  },
  {
   "cell_type": "code",
   "execution_count": 133,
   "metadata": {},
   "outputs": [],
   "source": [
    "def binary_focal_loss(y_true,y_pred):\n",
    "    alpha1 = 0.6\n",
    "    alpha2 = 0.4\n",
    "    gamma1 = 3\n",
    "    gamma2 = 2\n",
    "\n",
    "    \n",
    "    grad = alpha1*np.power(1-y_pred,gamma1-1)*y_true*(y_pred+gamma1*y_pred*np.log(y_pred)-1) \\\n",
    "           - alpha2*np.power(y_pred,gamma2-1)*(y_true-1)*(y_pred+gamma2*(y_pred-1))*np.log(1-y_pred)/(1-y_pred)\\\n",
    "           \n",
    "    hess = alpha1*np.power(1-y_pred,gamma1)/y_pred/y_pred + 2*gamma1*alpha1*np.power(1-y_pred,gamma1-1)*y_true/y_pred \\\n",
    "           - (gamma1-1)*gamma1*alpha1*np.power(1-y_pred,gamma1-2)*y_pred*np.log(y_pred) \\\n",
    "           + alpha2*np.power(y_pred,gamma2)*(1-y_true)/(1-y_pred)/(1-y_pred) \\\n",
    "           + 2*gamma2*alpha2*np.power(y_pred,1-gamma2)*(1-y_true)/(1-y_pred) \\\n",
    "           - (gamma2-1)*gamma2*alpha2*np.power(y_pred,gamma2-2)*(1-y_true)*np.log(1-y_pred)\\\n",
    "           \n",
    "    return grad,hess\n",
    "\n",
    "\n",
    "\n"
   ]
  },
  {
   "cell_type": "code",
   "execution_count": 138,
   "metadata": {},
   "outputs": [
    {
     "data": {
      "image/png": "[encoded data removed]",
      "text/plain": [
       "<Figure size 432x288 with 1 Axes>"
      ]
     },
     "metadata": {
      "needs_background": "light"
     },
     "output_type": "display_data"
    }
   ],
   "source": [
    "model = xgb.XGBRFClassifier(max_depth=6,\n",
    "                            learning_rate=0.01,\n",
    "                            n_estimators=60,\n",
    "                            objective=binary_focal_loss,\n",
    "                           )\n",
    "model.fit(X_train, y_train)\n",
    "y_pred = model.predict_proba(X_test)[:,1]\n",
    "AUC = evaluate_model(y_test,y_pred)\n"
   ]
  },
  {
   "cell_type": "markdown",
   "metadata": {},
   "source": [
    "# BayesianOptization"
   ]
  },
  {
   "cell_type": "code",
   "execution_count": 196,
   "metadata": {},
   "outputs": [],
   "source": [
    "\n",
    "\n",
    "max_depth = Integer(low=4, high=10, name='max_depth')\n",
    "learning_rate = Real(low=1e-4,high=1e-1,name=\"learning_rate\")\n",
    "n_estimators = Integer(low=50, high=300, name='n_estimators')\n",
    "num_leaves = Integer(low=20, high=50, name='num_leaves')\n",
    "objective = Categorical(['regression_l1','tweedie'],name='objective')\n",
    "\n",
    "dimensions = [\n",
    "    max_depth,\n",
    "    learning_rate,\n",
    "    n_estimators,\n",
    "    num_leaves,\n",
    "    objective,\n",
    "]"
   ]
  },
  {
   "cell_type": "code",
   "execution_count": 1,
   "metadata": {},
   "outputs": [],
   "source": [
    "def fitness(dimensions):\n",
    "    model = train_model(X_train,y_train,max_depth=dimensions[0],learning_rate=dimensions[1],n_estimators=dimensions[2],\n",
    "                num_leaves = dimensions[3],objective=dimensions[4],)\n",
    "    y_pred = model.predict_proba(X_test)[:,1]\n",
    "    AUC = evaluate_model(y_test,y_pred,PLOT=False)\n",
    "\n",
    "    return round(AUC,4)\n",
    "    \n",
    "default_parameters = [6,0.1,100,40,'regression_l1']\n",
    "gp_result = gp_minimize(func=fitness,dimensions=dimensions,verbose=True,n_jobs=4,n_calls=30,x0=default_parameters)\n",
    "params = []\n",
    "params.append(gp_result.x)"
   ]
  },
  {
   "cell_type": "code",
   "execution_count": null,
   "metadata": {},
   "outputs": [],
   "source": []
  },
  {
   "cell_type": "code",
   "execution_count": null,
   "metadata": {},
   "outputs": [],
   "source": []
  }
 ],
 "metadata": {
  "kernelspec": {
   "display_name": "Python 3",
   "language": "python",
   "name": "python3"
  },
  "language_info": {
   "codemirror_mode": {
    "name": "ipython",
    "version": 3
   },
   "file_extension": ".py",
   "mimetype": "text/x-python",
   "name": "python",
   "nbconvert_exporter": "python",
   "pygments_lexer": "ipython3",
   "version": "3.7.4"
  }
 },
 "nbformat": 4,
 "nbformat_minor": 2
}
